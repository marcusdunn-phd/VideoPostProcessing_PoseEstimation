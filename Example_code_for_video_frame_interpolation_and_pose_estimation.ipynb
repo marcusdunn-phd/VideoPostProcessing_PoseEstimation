{
  "cells": [
    {
      "cell_type": "markdown",
      "metadata": {
        "id": "view-in-github",
        "colab_type": "text"
      },
      "source": [
        "<a href=\"https://colab.research.google.com/github/marcusdunn-phd/VideoPostProcessing_PoseEstimation/blob/main/Example_code_for_video_frame_interpolation_and_pose_estimation.ipynb\" target=\"_parent\"><img src=\"https://colab.research.google.com/assets/colab-badge.svg\" alt=\"Open In Colab\"/></a>"
      ]
    },
    {
      "cell_type": "markdown",
      "source": [
        "# **Application of video frame interpolation to markerless, single-camera gait analysis**\n",
        "\n",
        "Dunn et al. (2022)\n",
        "\n",
        "\n",
        "\n",
        "---\n",
        "\n",
        "\n",
        "\n",
        "This [Google Colaboratory](https://colab.research.google.com/) notebook serves as a tool to demonstrate video frame interpolation (Huang et al., 2020) and pose estimation (Cao et al., 2021). The implementation of video frame interpolation and pose estimation follows example implementations by Huang et al. (2020) and Cao et al. (2019), respectively. This notebook combines implementations, and allows analysis of multiple videos (*.mp4) located in a [Google Drive](https://www.google.co.uk/intl/en-GB/drive/) folder. Video frame interpolated videos, alongside pose estimation keypoint data, are exported automatically.\n",
        "\n",
        "\n",
        "\n",
        "---\n",
        "\n",
        "\n",
        "#Please refer to source code and papers for and troubleshooting:\n",
        "\n",
        "---\n",
        "\n",
        "*Video Frame Interpolation:*\n",
        "\n",
        "Project page: **[Real-Time Intermediate Flow Estimation for Video Frame Interpolation](https://github.com/megvii-research/ECCV2022-RIFE#real-time-intermediate-flow-estimation-for-video-frame-interpolation)**\n",
        "\n",
        "Citation: *Huang Z, Zhang T, Heng W, Shi B, Zhou, Shuchang. (2020). RIFE: Real-Time Intermediate Flow Estimation for Video Frame Interpolation. arXiv preprint arXiv:2011.06294. https://doi.org/10.48550/arXiv.2011.06294*\n",
        "\n",
        "---\n",
        "\n",
        "*OpenPose pose estimation:*\n",
        "\n",
        "Project page: **[OpenPose](https://github.com/CMU-Perceptual-Computing-Lab/openpose#readme)**\n",
        "\n",
        "Citation: *Cao Z, Hidalgo G, Simon T, Wei SE, Sheikh Y (2019) OpenPose: Realtime Multi-Person 2D Pose Estimation Using Part Affinity Fields. IEEE Trans Pattern Anal Mach Intell 43(1):172-186. doi:10.1109/TPAMI.2019.2929257*\n"
      ],
      "metadata": {
        "id": "JFMdiYEd0vrU"
      }
    },
    {
      "cell_type": "markdown",
      "source": [
        "Map Google Drive"
      ],
      "metadata": {
        "id": "XuztIB_ADTtf"
      }
    },
    {
      "cell_type": "code",
      "source": [
        "from google.colab import files\n",
        "\n",
        "path = '/content/drive/'\n",
        "from google.colab import drive\n",
        "drive.mount(path)"
      ],
      "metadata": {
        "colab": {
          "base_uri": "https://localhost:8080/"
        },
        "id": "VhsHjM6LCi2h",
        "outputId": "7a102ff7-2f02-424c-f118-d50cb91e27f7"
      },
      "execution_count": null,
      "outputs": [
        {
          "output_type": "stream",
          "name": "stdout",
          "text": [
            "Mounted at /content/drive/\n"
          ]
        }
      ]
    },
    {
      "cell_type": "markdown",
      "source": [
        "Clone RIFE Video Frame Interpolation repository"
      ],
      "metadata": {
        "id": "Mh_SPgyaDeD5"
      }
    },
    {
      "cell_type": "code",
      "execution_count": null,
      "metadata": {
        "id": "1wysVHxoN54f"
      },
      "outputs": [],
      "source": [
        "!git clone https://github.com/hzwer/arXiv2020-RIFE\n",
        "!mkdir /content/arXiv2020-RIFE/train_log\n",
        "%cd /content/arXiv2020-RIFE/train_log\n",
        "!gdown --id 1APIzVeI-4ZZCEuIRE1m6WYfSCaOsi_7_\n",
        "!7z e RIFE_trained_model_v3.6.zip"
      ]
    },
    {
      "cell_type": "markdown",
      "source": [
        "Install RIFE"
      ],
      "metadata": {
        "id": "g6_1JBQ_BrqQ"
      }
    },
    {
      "cell_type": "code",
      "execution_count": null,
      "metadata": {
        "id": "AhbHfRBJRAUt"
      },
      "outputs": [],
      "source": [
        "%cd /content/arXiv2020-RIFE/\n",
        "!gdown --id 1i3xlKb7ax7Y70khcTcuePi6E7crO_dFc\n",
        "!pip3 install -r requirements.txt"
      ]
    },
    {
      "cell_type": "markdown",
      "metadata": {
        "id": "rirngW5uRMdg"
      },
      "source": [
        "Important: You will need to restart runtime and re-run the previous cell\n",
        "\n",
        "---\n",
        "\n"
      ]
    },
    {
      "cell_type": "markdown",
      "source": [
        "Create the following path and add .mp4 videos\n",
        "- *'My Drive/VFI_PE_demo/Input/'*\n",
        "\n",
        "Run the following cell to perform video frame interpolation for videos in:\n",
        "- *'My Drive/VFI_PE_demo/Input/'*"
      ],
      "metadata": {
        "id": "WwfKJoJKB39y"
      }
    },
    {
      "cell_type": "code",
      "source": [
        "import os\n",
        "import shutil\n",
        "!nvidia-smi\n",
        "\n",
        "# define paths\n",
        "path = '/content/drive/'\n",
        "input = os.path.join(path + 'My Drive/VFI_PE_demo/Input/')\n",
        "output = os.path.join(path + 'My Drive/VFI_PE_demo/Output/')\n",
        "\n",
        "# create folders if needed\n",
        "if not os.path.exists(input):\n",
        "  os.mkdir(input)\n",
        "\n",
        "if not os.path.exists(output):\n",
        "  os.mkdir(output)\n",
        "\n",
        "ext = (\".mp4\", \".MP4\")\n",
        "filenames = []\n",
        "\n",
        "for filename in os.listdir(input):\n",
        "    if any([filename.endswith(tuple(ext))]):\n",
        "\n",
        "      print('Performing VFI: ' + filename)      \n",
        "\n",
        "      # copy video from Google Drive to root \n",
        "      vid  = input + filename\n",
        "      dst = 'video.mp4'\n",
        "      shutil.copyfile(vid, dst)\n",
        "\n",
        "      # VFI\n",
        "      !python3 inference_video.py --exp=2 --video='video.mp4' --output='VFI.mp4' --UHD\n",
        "\n",
        "      # rename output\n",
        "      os.rename('VFI.mp4', 'VFI_' + filename)\n",
        "      \n",
        "      # create list of processed videos\n",
        "      filenames.append('VFI_' + filename)\n",
        "\n",
        "# copy videos back to Google Drive\n",
        "for filename in filenames:\n",
        "  shutil.copyfile(filename, input + filename)\n"
      ],
      "metadata": {
        "id": "F9DpV-ggD2-a"
      },
      "execution_count": null,
      "outputs": []
    },
    {
      "cell_type": "markdown",
      "source": [
        "Clone and install OpenPose (this make take some time)"
      ],
      "metadata": {
        "id": "NaipdNeHI9zb"
      }
    },
    {
      "cell_type": "code",
      "source": [
        "from os.path import exists, join, basename, splitext\n",
        "\n",
        "git_repo_url = 'https://github.com/CMU-Perceptual-Computing-Lab/openpose.git'\n",
        "project_name = splitext(basename(git_repo_url))[0]\n",
        "if not exists(project_name):\n",
        "  # see: https://github.com/CMU-Perceptual-Computing-Lab/openpose/issues/949\n",
        "  # install new CMake becaue of CUDA10\n",
        "  !wget -q https://cmake.org/files/v3.13/cmake-3.13.0-Linux-x86_64.tar.gz\n",
        "  !tar xfz cmake-3.13.0-Linux-x86_64.tar.gz --strip-components=1 -C /usr/local\n",
        "  # clone openpose\n",
        "  !git clone -q --depth 1 $git_repo_url\n",
        "  !sed -i 's/execute_process(COMMAND git checkout master WORKING_DIRECTORY ${CMAKE_SOURCE_DIR}\\/3rdparty\\/caffe)/execute_process(COMMAND git checkout f019d0dfe86f49d1140961f8c7dec22130c83154 WORKING_DIRECTORY ${CMAKE_SOURCE_DIR}\\/3rdparty\\/caffe)/g' openpose/CMakeLists.txt\n",
        "  # install system dependencies\n",
        "  !apt-get -qq install -y libatlas-base-dev libprotobuf-dev libleveldb-dev libsnappy-dev libhdf5-serial-dev protobuf-compiler libgflags-dev libgoogle-glog-dev liblmdb-dev opencl-headers ocl-icd-opencl-dev libviennacl-dev\n",
        "  # install python dependencies\n",
        "  !pip install -q youtube-dl\n",
        "  # build openpose\n",
        "  !cd openpose && rm -rf build || true && mkdir build && cd build && cmake .. && make -j`nproc`\n",
        "  "
      ],
      "metadata": {
        "id": "IbBLEAxzI883"
      },
      "execution_count": null,
      "outputs": []
    },
    {
      "cell_type": "markdown",
      "source": [
        "Run the following cell to perform pose estimation for videos in:\n",
        "- *'My Drive/VFI_PE_demo/Input/'*\n",
        "\n",
        "Exported keypoint data and visualised videos are exported to:\n",
        "- *'My Drive/VFI_PE_demo/Output/'*"
      ],
      "metadata": {
        "id": "wNwJKMsbJMpr"
      }
    },
    {
      "cell_type": "code",
      "source": [
        "pn = \"./openpose/output/\"\n",
        "outPn = \"./keypoints/\"\n",
        "\n",
        "# redefine paths if changed\n",
        "path = '/content/drive/'\n",
        "input = os.path.join(path + 'My Drive/VFI_PE_demo/Input/')\n",
        "output = os.path.join(path + 'My Drive/VFI_PE_demo/Output/')\n",
        "\n",
        "ext = (\".mp4\", \".MP4\")\n",
        "\n",
        "#data = []\n",
        "for filename in os.listdir(input): # change folder to VFIin for original videos\n",
        "    if any([filename.endswith(tuple(ext))]):\n",
        "\n",
        "      print('Performing pose estimation: ' + filename)      \n",
        "      \n",
        "      # create output folder\n",
        "      if not os.path.exists(pn):\n",
        "        !mkdir \"./openpose/output/\"\n",
        "\n",
        "      #data.append(filename)\n",
        "      orig = input + filename\n",
        "\n",
        "      # copy video to root \n",
        "      dst = 'video.mp4'\n",
        "      shutil.copyfile(orig, dst)\n",
        "\n",
        "      !cd openpose && ./build/examples/openpose/openpose.bin --video ../video.mp4 --write_json ./output/ --display 0  --write_video ../openpose.avi   #Keypoint and video export\n",
        "\n",
        "      # create output folder\n",
        "      if not os.path.exists(outPn):\n",
        "        !mkdir \"./keypoints/\"\n",
        "\n",
        "      # copy output data\n",
        "      for json in os.listdir(pn):\n",
        "        shutil.copyfile(pn + json, outPn + json)\n",
        "\n",
        "      # zip output data\n",
        "      !zip -r outputData.zip ./keypoints/\n",
        "\n",
        "      # copy output filenames\n",
        "      name, ext = filename.split('.')\n",
        "\n",
        "      # copy ZIP data to Google Drive\n",
        "      zipFN = output + 'outData_' + name + '.zip'\n",
        "      shutil.copyfile('./outputData.zip', zipFN)\n",
        "\n",
        "      # convert the result into MP4 for visualisation\n",
        "      !ffmpeg -y -loglevel info -i openpose.avi output.mp4\n",
        "      vidFN = output + 'outVideo_' + name + '.mp4'\n",
        "      shutil.copyfile('./output.mp4', vidFN)\n",
        "\n",
        "      !rm openpose.avi\n",
        "      !rm output.mp4\n",
        "\n",
        "      # clean up\n",
        "      !rm outputData.zip\n",
        "      !rm video.mp4\n",
        "      !rm -rf ./openpose/output/\n",
        "      !rm -rf ./keypoints/"
      ],
      "metadata": {
        "id": "20Gi7k6jJO5Q"
      },
      "execution_count": null,
      "outputs": []
    },
    {
      "cell_type": "markdown",
      "source": [
        "Unmount Google Drive"
      ],
      "metadata": {
        "id": "TumulBnCC-RT"
      }
    },
    {
      "cell_type": "code",
      "source": [
        "from google.colab import drive\n",
        "drive.flush_and_unmount()\n",
        "print('Google Drive unmounted.')"
      ],
      "metadata": {
        "colab": {
          "base_uri": "https://localhost:8080/"
        },
        "id": "w-m93t_PLBGO",
        "outputId": "3ac71a69-2d18-48a5-dd19-25692af34cb3"
      },
      "execution_count": null,
      "outputs": [
        {
          "output_type": "stream",
          "name": "stdout",
          "text": [
            "Google Drive unmounted, batch analysis complete.\n"
          ]
        }
      ]
    }
  ],
  "metadata": {
    "accelerator": "GPU",
    "colab": {
      "name": "Example code for video frame interpolation and pose estimation",
      "provenance": [],
      "collapsed_sections": [],
      "include_colab_link": true
    },
    "kernelspec": {
      "display_name": "Python 3",
      "name": "python3"
    }
  },
  "nbformat": 4,
  "nbformat_minor": 0
}